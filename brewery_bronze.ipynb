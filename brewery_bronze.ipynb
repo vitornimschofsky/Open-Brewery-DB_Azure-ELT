{
 "cells": [
  {
   "cell_type": "code",
   "execution_count": 0,
   "metadata": {
    "application/vnd.databricks.v1+cell": {
     "cellMetadata": {
      "byteLimit": 2048000,
      "rowLimit": 10000
     },
     "inputWidgets": {},
     "nuid": "d9e4da9b-edbb-4974-9578-e78934e0bb0e",
     "showTitle": false,
     "title": ""
    }
   },
   "outputs": [
    {
     "output_type": "display_data",
     "data": {
      "application/vnd.databricks.v1+bamboolib_hint": "{\"pd.DataFrames\": [], \"version\": \"0.0.1\"}",
      "text/plain": []
     },
     "metadata": {},
     "output_type": "display_data"
    }
   ],
   "source": [
    "import json\n",
    "from pyspark.sql.types import *\n",
    "import pyspark.sql.functions as f\n",
    "from pyspark.sql.functions import *\n",
    "from pyspark.sql.functions import col, from_json, isnan, row_number, to_json, when, size, collect_list, explode\n",
    "import pandas as pd\n",
    "from pyspark.sql.functions import concat_ws, when, split\n",
    "from datetime import datetime\n",
    "from functools import reduce\n",
    "from pathlib import Path"
   ]
  },
  {
   "cell_type": "code",
   "execution_count": 0,
   "metadata": {
    "application/vnd.databricks.v1+cell": {
     "cellMetadata": {
      "byteLimit": 2048000,
      "rowLimit": 10000
     },
     "inputWidgets": {},
     "nuid": "83c1a330-3cff-4eb0-8ef0-58a11b7a43f0",
     "showTitle": false,
     "title": ""
    }
   },
   "outputs": [],
   "source": [
    "#dbutils.fs.mount(\n",
    "  #source=\"wasbs://land@stgbeer.blob.core.windows.net\",\n",
    "  #mount_point=\"/mnt/bees-vitor\",\n",
    "  #extra_configs={\n",
    "    #\"fs.azure.account.key.stgbeer.blob.core.windows.net\": dbutils.secrets.get(scope=\"bees-scope\", key=\"blob-key\")\n",
    "  #}\n",
    "#)"
   ]
  },
  {
   "cell_type": "code",
   "execution_count": 0,
   "metadata": {
    "application/vnd.databricks.v1+cell": {
     "cellMetadata": {
      "byteLimit": 2048000,
      "rowLimit": 10000
     },
     "inputWidgets": {},
     "nuid": "a53c84e8-722b-4d3f-b129-f8a91151b756",
     "showTitle": false,
     "title": ""
    }
   },
   "outputs": [],
   "source": [
    "#HOJE = datetime.now().date()\n",
    "HOJE = \"2023-06-17\"\n",
    "#input_adf_unix_timestamp = \"2023-05-28\"\n",
    "DIRETORIO = \"brewery-beear\"\n",
    "path = f\"/mnt/bees-vitor/{DIRETORIO}/{HOJE}\"\n",
    "\n",
    "# Lista todos os arquivos no diretório\n",
    "files = dbutils.fs.ls(path)\n",
    "\n",
    "df_bronze = spark.read \\\n",
    "    .option(\"header\", \"true\") \\\n",
    "    .option(\"multiLine\", \"true\") \\\n",
    "    .option(\"delimiter\", \";\") \\\n",
    "    .option(\"inferSchema\", \"true\") \\\n",
    "    .json(path)"
   ]
  },
  {
   "cell_type": "code",
   "execution_count": 0,
   "metadata": {
    "application/vnd.databricks.v1+cell": {
     "cellMetadata": {
      "byteLimit": 2048000,
      "rowLimit": 10000
     },
     "inputWidgets": {},
     "nuid": "a5a4e19b-68ea-41aa-93b5-ea7cb3c6fc02",
     "showTitle": false,
     "title": ""
    }
   },
   "outputs": [],
   "source": [
    "df_bronze.coalesce(1).write.format(\"parquet\").mode(\"append\").save(f'/mnt/bees-vitor/historical_brewery_data/Bronze/{HOJE}/')"
   ]
  },
  {
   "cell_type": "code",
   "execution_count": 0,
   "metadata": {
    "application/vnd.databricks.v1+cell": {
     "cellMetadata": {
      "byteLimit": 2048000,
      "rowLimit": 10000
     },
     "inputWidgets": {},
     "nuid": "3d5d5dea-56d7-4b01-b0fe-c9a8c629d2d6",
     "showTitle": false,
     "title": ""
    }
   },
   "outputs": [],
   "source": [
    "df_bronze.write.format(\"delta\").mode(\"append\").option(\"mergeSchema\", \"true\").saveAsTable(f\"BRONZE_brewery\")"
   ]
  }
 ],
 "metadata": {
  "application/vnd.databricks.v1+notebook": {
   "dashboards": [],
   "language": "python",
   "notebookMetadata": {
    "pythonIndentUnit": 4
   },
   "notebookName": "brewery_bronze",
   "widgets": {}
  }
 },
 "nbformat": 4,
 "nbformat_minor": 0
}
